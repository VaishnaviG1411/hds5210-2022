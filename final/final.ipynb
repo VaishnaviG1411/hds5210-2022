{
 "cells": [
  {
   "cell_type": "markdown",
   "metadata": {},
   "source": [
    "Factors Affecting Maternity Health Risk Level"
   ]
  },
  {
   "cell_type": "code",
   "execution_count": 23,
   "metadata": {},
   "outputs": [
    {
     "data": {
      "text/plain": [
       "(1013, 4)"
      ]
     },
     "execution_count": 23,
     "metadata": {},
     "output_type": "execute_result"
    }
   ],
   "source": [
    "#IMPORTING PANDAS AND READING DATA FILE 1\n",
    "#Here we have imported pandas library and have renamed it as 'pd' and also we have read the data file 1 using 'read_excel' function, The data that we used here has been downloaded from 'kaggle' and transfered the file into a data frame called 'diab'.\n",
    "#To know about how many rows and columns exists in the data we have used a function 'shape' on the dataframe 'diab'.\n",
    "import pandas as pd \n",
    "diab= pd.read_excel(\"diabversion.xlsx\")\n",
    "diab.shape"
   ]
  },
  {
   "cell_type": "code",
   "execution_count": 2,
   "metadata": {},
   "outputs": [
    {
     "data": {
      "text/plain": [
       "(1014, 7)"
      ]
     },
     "execution_count": 2,
     "metadata": {},
     "output_type": "execute_result"
    }
   ],
   "source": [
    "#READING DATA FILE 2\n",
    "#we have read the data file 2 using 'read_excel' function. The data that we used here has been downloaded from 'kaggle' and transfered the file into a data frame called 'MHdata'.\n",
    "#To know about how many rows and columns exists in the data we have used a function 'shape' on the dataframe 'MHdata'.\n",
    "MHdata= pd.read_csv(\"Maternal Health Risk Data Set.csv\")\n",
    "MHdata.shape"
   ]
  },
  {
   "cell_type": "code",
   "execution_count": 3,
   "metadata": {},
   "outputs": [
    {
     "data": {
      "text/plain": [
       "(1014, 5)"
      ]
     },
     "execution_count": 3,
     "metadata": {},
     "output_type": "execute_result"
    }
   ],
   "source": [
    "#READING DATA FILE 3\n",
    "#we have read the data file 3 using 'read_excel' function. The data that we used here has been downloaded from 'data.gov' and transfered the file into a data frame called 'HFdata'.\n",
    "#To know about how many rows and columns exists in the data we have used a function 'shape' on the dataframe 'HFdata'.\n",
    "HFdata= pd.read_excel(\"heart_failure_clinical_records_EVERSION 1 (1).xlsx\")\n",
    "HFdata.shape"
   ]
  },
  {
   "cell_type": "code",
   "execution_count": 4,
   "metadata": {},
   "outputs": [
    {
     "data": {
      "text/html": [
       "<div>\n",
       "<style scoped>\n",
       "    .dataframe tbody tr th:only-of-type {\n",
       "        vertical-align: middle;\n",
       "    }\n",
       "\n",
       "    .dataframe tbody tr th {\n",
       "        vertical-align: top;\n",
       "    }\n",
       "\n",
       "    .dataframe thead th {\n",
       "        text-align: right;\n",
       "    }\n",
       "</style>\n",
       "<table border=\"1\" class=\"dataframe\">\n",
       "  <thead>\n",
       "    <tr style=\"text-align: right;\">\n",
       "      <th></th>\n",
       "      <th>anaemia</th>\n",
       "      <th>platelets</th>\n",
       "      <th>smoking</th>\n",
       "      <th>serum_creatinine</th>\n",
       "      <th>serum_sodium</th>\n",
       "      <th>Age</th>\n",
       "      <th>SystolicBP</th>\n",
       "      <th>DiastolicBP</th>\n",
       "      <th>BS</th>\n",
       "      <th>BodyTemp</th>\n",
       "      <th>HeartRate</th>\n",
       "      <th>RiskLevel</th>\n",
       "      <th>Pregnancies</th>\n",
       "      <th>SkinThickness</th>\n",
       "      <th>BMI</th>\n",
       "      <th>DiabetesPedigreeFunction</th>\n",
       "    </tr>\n",
       "  </thead>\n",
       "  <tbody>\n",
       "    <tr>\n",
       "      <th>0</th>\n",
       "      <td>0</td>\n",
       "      <td>265000.00</td>\n",
       "      <td>0</td>\n",
       "      <td>1.90</td>\n",
       "      <td>130</td>\n",
       "      <td>25</td>\n",
       "      <td>130</td>\n",
       "      <td>80</td>\n",
       "      <td>15.0</td>\n",
       "      <td>98.0</td>\n",
       "      <td>86</td>\n",
       "      <td>high risk</td>\n",
       "      <td>6</td>\n",
       "      <td>35</td>\n",
       "      <td>33.6</td>\n",
       "      <td>0.627</td>\n",
       "    </tr>\n",
       "    <tr>\n",
       "      <th>1</th>\n",
       "      <td>0</td>\n",
       "      <td>263358.03</td>\n",
       "      <td>0</td>\n",
       "      <td>1.10</td>\n",
       "      <td>136</td>\n",
       "      <td>35</td>\n",
       "      <td>140</td>\n",
       "      <td>90</td>\n",
       "      <td>13.0</td>\n",
       "      <td>98.0</td>\n",
       "      <td>70</td>\n",
       "      <td>high risk</td>\n",
       "      <td>1</td>\n",
       "      <td>29</td>\n",
       "      <td>26.6</td>\n",
       "      <td>0.351</td>\n",
       "    </tr>\n",
       "    <tr>\n",
       "      <th>2</th>\n",
       "      <td>0</td>\n",
       "      <td>162000.00</td>\n",
       "      <td>1</td>\n",
       "      <td>1.30</td>\n",
       "      <td>129</td>\n",
       "      <td>29</td>\n",
       "      <td>90</td>\n",
       "      <td>70</td>\n",
       "      <td>8.0</td>\n",
       "      <td>100.0</td>\n",
       "      <td>80</td>\n",
       "      <td>high risk</td>\n",
       "      <td>8</td>\n",
       "      <td>0</td>\n",
       "      <td>23.3</td>\n",
       "      <td>0.672</td>\n",
       "    </tr>\n",
       "    <tr>\n",
       "      <th>3</th>\n",
       "      <td>1</td>\n",
       "      <td>210000.00</td>\n",
       "      <td>0</td>\n",
       "      <td>1.90</td>\n",
       "      <td>137</td>\n",
       "      <td>30</td>\n",
       "      <td>140</td>\n",
       "      <td>85</td>\n",
       "      <td>7.0</td>\n",
       "      <td>98.0</td>\n",
       "      <td>70</td>\n",
       "      <td>high risk</td>\n",
       "      <td>1</td>\n",
       "      <td>23</td>\n",
       "      <td>28.1</td>\n",
       "      <td>0.167</td>\n",
       "    </tr>\n",
       "    <tr>\n",
       "      <th>4</th>\n",
       "      <td>1</td>\n",
       "      <td>327000.00</td>\n",
       "      <td>0</td>\n",
       "      <td>2.70</td>\n",
       "      <td>116</td>\n",
       "      <td>35</td>\n",
       "      <td>120</td>\n",
       "      <td>60</td>\n",
       "      <td>6.1</td>\n",
       "      <td>98.0</td>\n",
       "      <td>76</td>\n",
       "      <td>low risk</td>\n",
       "      <td>0</td>\n",
       "      <td>35</td>\n",
       "      <td>43.1</td>\n",
       "      <td>2.288</td>\n",
       "    </tr>\n",
       "    <tr>\n",
       "      <th>...</th>\n",
       "      <td>...</td>\n",
       "      <td>...</td>\n",
       "      <td>...</td>\n",
       "      <td>...</td>\n",
       "      <td>...</td>\n",
       "      <td>...</td>\n",
       "      <td>...</td>\n",
       "      <td>...</td>\n",
       "      <td>...</td>\n",
       "      <td>...</td>\n",
       "      <td>...</td>\n",
       "      <td>...</td>\n",
       "      <td>...</td>\n",
       "      <td>...</td>\n",
       "      <td>...</td>\n",
       "      <td>...</td>\n",
       "    </tr>\n",
       "    <tr>\n",
       "      <th>1008</th>\n",
       "      <td>1</td>\n",
       "      <td>227000.00</td>\n",
       "      <td>0</td>\n",
       "      <td>3.40</td>\n",
       "      <td>145</td>\n",
       "      <td>48</td>\n",
       "      <td>120</td>\n",
       "      <td>80</td>\n",
       "      <td>11.0</td>\n",
       "      <td>98.0</td>\n",
       "      <td>88</td>\n",
       "      <td>high risk</td>\n",
       "      <td>1</td>\n",
       "      <td>24</td>\n",
       "      <td>29.2</td>\n",
       "      <td>0.192</td>\n",
       "    </tr>\n",
       "    <tr>\n",
       "      <th>1009</th>\n",
       "      <td>1</td>\n",
       "      <td>249000.00</td>\n",
       "      <td>1</td>\n",
       "      <td>0.70</td>\n",
       "      <td>138</td>\n",
       "      <td>22</td>\n",
       "      <td>120</td>\n",
       "      <td>60</td>\n",
       "      <td>15.0</td>\n",
       "      <td>98.0</td>\n",
       "      <td>80</td>\n",
       "      <td>high risk</td>\n",
       "      <td>4</td>\n",
       "      <td>32</td>\n",
       "      <td>33.1</td>\n",
       "      <td>0.446</td>\n",
       "    </tr>\n",
       "    <tr>\n",
       "      <th>1010</th>\n",
       "      <td>1</td>\n",
       "      <td>250000.00</td>\n",
       "      <td>0</td>\n",
       "      <td>6.10</td>\n",
       "      <td>131</td>\n",
       "      <td>55</td>\n",
       "      <td>120</td>\n",
       "      <td>90</td>\n",
       "      <td>18.0</td>\n",
       "      <td>98.0</td>\n",
       "      <td>60</td>\n",
       "      <td>high risk</td>\n",
       "      <td>3</td>\n",
       "      <td>0</td>\n",
       "      <td>25.6</td>\n",
       "      <td>0.402</td>\n",
       "    </tr>\n",
       "    <tr>\n",
       "      <th>1011</th>\n",
       "      <td>0</td>\n",
       "      <td>263358.03</td>\n",
       "      <td>0</td>\n",
       "      <td>1.18</td>\n",
       "      <td>137</td>\n",
       "      <td>35</td>\n",
       "      <td>85</td>\n",
       "      <td>60</td>\n",
       "      <td>19.0</td>\n",
       "      <td>98.0</td>\n",
       "      <td>86</td>\n",
       "      <td>high risk</td>\n",
       "      <td>6</td>\n",
       "      <td>22</td>\n",
       "      <td>27.1</td>\n",
       "      <td>1.318</td>\n",
       "    </tr>\n",
       "    <tr>\n",
       "      <th>1012</th>\n",
       "      <td>1</td>\n",
       "      <td>210000.00</td>\n",
       "      <td>1</td>\n",
       "      <td>1.50</td>\n",
       "      <td>135</td>\n",
       "      <td>43</td>\n",
       "      <td>120</td>\n",
       "      <td>90</td>\n",
       "      <td>18.0</td>\n",
       "      <td>98.0</td>\n",
       "      <td>70</td>\n",
       "      <td>high risk</td>\n",
       "      <td>2</td>\n",
       "      <td>35</td>\n",
       "      <td>38.2</td>\n",
       "      <td>0.329</td>\n",
       "    </tr>\n",
       "  </tbody>\n",
       "</table>\n",
       "<p>1013 rows × 16 columns</p>\n",
       "</div>"
      ],
      "text/plain": [
       "      anaemia  platelets  smoking  serum_creatinine  serum_sodium  Age  \\\n",
       "0           0  265000.00        0              1.90           130   25   \n",
       "1           0  263358.03        0              1.10           136   35   \n",
       "2           0  162000.00        1              1.30           129   29   \n",
       "3           1  210000.00        0              1.90           137   30   \n",
       "4           1  327000.00        0              2.70           116   35   \n",
       "...       ...        ...      ...               ...           ...  ...   \n",
       "1008        1  227000.00        0              3.40           145   48   \n",
       "1009        1  249000.00        1              0.70           138   22   \n",
       "1010        1  250000.00        0              6.10           131   55   \n",
       "1011        0  263358.03        0              1.18           137   35   \n",
       "1012        1  210000.00        1              1.50           135   43   \n",
       "\n",
       "      SystolicBP  DiastolicBP    BS  BodyTemp  HeartRate  RiskLevel  \\\n",
       "0            130           80  15.0      98.0         86  high risk   \n",
       "1            140           90  13.0      98.0         70  high risk   \n",
       "2             90           70   8.0     100.0         80  high risk   \n",
       "3            140           85   7.0      98.0         70  high risk   \n",
       "4            120           60   6.1      98.0         76   low risk   \n",
       "...          ...          ...   ...       ...        ...        ...   \n",
       "1008         120           80  11.0      98.0         88  high risk   \n",
       "1009         120           60  15.0      98.0         80  high risk   \n",
       "1010         120           90  18.0      98.0         60  high risk   \n",
       "1011          85           60  19.0      98.0         86  high risk   \n",
       "1012         120           90  18.0      98.0         70  high risk   \n",
       "\n",
       "      Pregnancies  SkinThickness   BMI  DiabetesPedigreeFunction  \n",
       "0               6             35  33.6                     0.627  \n",
       "1               1             29  26.6                     0.351  \n",
       "2               8              0  23.3                     0.672  \n",
       "3               1             23  28.1                     0.167  \n",
       "4               0             35  43.1                     2.288  \n",
       "...           ...            ...   ...                       ...  \n",
       "1008            1             24  29.2                     0.192  \n",
       "1009            4             32  33.1                     0.446  \n",
       "1010            3              0  25.6                     0.402  \n",
       "1011            6             22  27.1                     1.318  \n",
       "1012            2             35  38.2                     0.329  \n",
       "\n",
       "[1013 rows x 16 columns]"
      ]
     },
     "metadata": {},
     "output_type": "display_data"
    }
   ],
   "source": [
    "#MERGING ALL THE 3 DATA FILES\n",
    "#Here we have concatinated the 3 data files using the function 'concat' on the three files and have used data frame 'result' to store it.\n",
    "#The result has been displayed using the 'display' function on the dataframe 'result'.\n",
    "result = pd.concat([HFdata,MHdata,diab], axis=1, join='inner')\n",
    "display(result)"
   ]
  },
  {
   "cell_type": "code",
   "execution_count": 5,
   "metadata": {},
   "outputs": [
    {
     "name": "stdout",
     "output_type": "stream",
     "text": [
      "<class 'pandas.core.frame.DataFrame'>\n",
      "RangeIndex: 1013 entries, 0 to 1012\n",
      "Data columns (total 16 columns):\n",
      " #   Column                    Non-Null Count  Dtype  \n",
      "---  ------                    --------------  -----  \n",
      " 0   anaemia                   1013 non-null   int64  \n",
      " 1   platelets                 1013 non-null   float64\n",
      " 2   smoking                   1013 non-null   int64  \n",
      " 3   serum_creatinine          1013 non-null   float64\n",
      " 4   serum_sodium              1013 non-null   int64  \n",
      " 5   Age                       1013 non-null   int64  \n",
      " 6   SystolicBP                1013 non-null   int64  \n",
      " 7   DiastolicBP               1013 non-null   int64  \n",
      " 8   BS                        1013 non-null   float64\n",
      " 9   BodyTemp                  1013 non-null   float64\n",
      " 10  HeartRate                 1013 non-null   int64  \n",
      " 11  RiskLevel                 1013 non-null   object \n",
      " 12  Pregnancies               1013 non-null   int64  \n",
      " 13  SkinThickness             1013 non-null   int64  \n",
      " 14  BMI                       1013 non-null   float64\n",
      " 15  DiabetesPedigreeFunction  1013 non-null   float64\n",
      "dtypes: float64(6), int64(9), object(1)\n",
      "memory usage: 126.8+ KB\n"
     ]
    }
   ],
   "source": [
    "#CHECKING INFO\n",
    "#we have used the 'info' function to check the info in the data frame 'result'.\n",
    "result.info()"
   ]
  },
  {
   "cell_type": "code",
   "execution_count": 6,
   "metadata": {},
   "outputs": [
    {
     "data": {
      "text/html": [
       "<div>\n",
       "<style scoped>\n",
       "    .dataframe tbody tr th:only-of-type {\n",
       "        vertical-align: middle;\n",
       "    }\n",
       "\n",
       "    .dataframe tbody tr th {\n",
       "        vertical-align: top;\n",
       "    }\n",
       "\n",
       "    .dataframe thead th {\n",
       "        text-align: right;\n",
       "    }\n",
       "</style>\n",
       "<table border=\"1\" class=\"dataframe\">\n",
       "  <thead>\n",
       "    <tr style=\"text-align: right;\">\n",
       "      <th></th>\n",
       "      <th>anaemia</th>\n",
       "      <th>platelets</th>\n",
       "      <th>smoking</th>\n",
       "      <th>serum_creatinine</th>\n",
       "      <th>serum_sodium</th>\n",
       "      <th>Age</th>\n",
       "      <th>SystolicBP</th>\n",
       "      <th>DiastolicBP</th>\n",
       "      <th>BS</th>\n",
       "      <th>BodyTemp</th>\n",
       "      <th>HeartRate</th>\n",
       "      <th>RiskLevel</th>\n",
       "      <th>Pregnancies</th>\n",
       "      <th>SkinThickness</th>\n",
       "      <th>BMI</th>\n",
       "      <th>DiabetesPedigreeFunction</th>\n",
       "    </tr>\n",
       "  </thead>\n",
       "  <tbody>\n",
       "    <tr>\n",
       "      <th>0</th>\n",
       "      <td>0</td>\n",
       "      <td>265000.00</td>\n",
       "      <td>0</td>\n",
       "      <td>1.9</td>\n",
       "      <td>130</td>\n",
       "      <td>25</td>\n",
       "      <td>130</td>\n",
       "      <td>80</td>\n",
       "      <td>15.0</td>\n",
       "      <td>98.0</td>\n",
       "      <td>86</td>\n",
       "      <td>high risk</td>\n",
       "      <td>6</td>\n",
       "      <td>35</td>\n",
       "      <td>33.6</td>\n",
       "      <td>0.627</td>\n",
       "    </tr>\n",
       "    <tr>\n",
       "      <th>1</th>\n",
       "      <td>0</td>\n",
       "      <td>263358.03</td>\n",
       "      <td>0</td>\n",
       "      <td>1.1</td>\n",
       "      <td>136</td>\n",
       "      <td>35</td>\n",
       "      <td>140</td>\n",
       "      <td>90</td>\n",
       "      <td>13.0</td>\n",
       "      <td>98.0</td>\n",
       "      <td>70</td>\n",
       "      <td>high risk</td>\n",
       "      <td>1</td>\n",
       "      <td>29</td>\n",
       "      <td>26.6</td>\n",
       "      <td>0.351</td>\n",
       "    </tr>\n",
       "    <tr>\n",
       "      <th>2</th>\n",
       "      <td>0</td>\n",
       "      <td>162000.00</td>\n",
       "      <td>1</td>\n",
       "      <td>1.3</td>\n",
       "      <td>129</td>\n",
       "      <td>29</td>\n",
       "      <td>90</td>\n",
       "      <td>70</td>\n",
       "      <td>8.0</td>\n",
       "      <td>100.0</td>\n",
       "      <td>80</td>\n",
       "      <td>high risk</td>\n",
       "      <td>8</td>\n",
       "      <td>0</td>\n",
       "      <td>23.3</td>\n",
       "      <td>0.672</td>\n",
       "    </tr>\n",
       "    <tr>\n",
       "      <th>3</th>\n",
       "      <td>1</td>\n",
       "      <td>210000.00</td>\n",
       "      <td>0</td>\n",
       "      <td>1.9</td>\n",
       "      <td>137</td>\n",
       "      <td>30</td>\n",
       "      <td>140</td>\n",
       "      <td>85</td>\n",
       "      <td>7.0</td>\n",
       "      <td>98.0</td>\n",
       "      <td>70</td>\n",
       "      <td>high risk</td>\n",
       "      <td>1</td>\n",
       "      <td>23</td>\n",
       "      <td>28.1</td>\n",
       "      <td>0.167</td>\n",
       "    </tr>\n",
       "    <tr>\n",
       "      <th>4</th>\n",
       "      <td>1</td>\n",
       "      <td>327000.00</td>\n",
       "      <td>0</td>\n",
       "      <td>2.7</td>\n",
       "      <td>116</td>\n",
       "      <td>35</td>\n",
       "      <td>120</td>\n",
       "      <td>60</td>\n",
       "      <td>6.1</td>\n",
       "      <td>98.0</td>\n",
       "      <td>76</td>\n",
       "      <td>low risk</td>\n",
       "      <td>0</td>\n",
       "      <td>35</td>\n",
       "      <td>43.1</td>\n",
       "      <td>2.288</td>\n",
       "    </tr>\n",
       "  </tbody>\n",
       "</table>\n",
       "</div>"
      ],
      "text/plain": [
       "   anaemia  platelets  smoking  serum_creatinine  serum_sodium  Age  \\\n",
       "0        0  265000.00        0               1.9           130   25   \n",
       "1        0  263358.03        0               1.1           136   35   \n",
       "2        0  162000.00        1               1.3           129   29   \n",
       "3        1  210000.00        0               1.9           137   30   \n",
       "4        1  327000.00        0               2.7           116   35   \n",
       "\n",
       "   SystolicBP  DiastolicBP    BS  BodyTemp  HeartRate  RiskLevel  Pregnancies  \\\n",
       "0         130           80  15.0      98.0         86  high risk            6   \n",
       "1         140           90  13.0      98.0         70  high risk            1   \n",
       "2          90           70   8.0     100.0         80  high risk            8   \n",
       "3         140           85   7.0      98.0         70  high risk            1   \n",
       "4         120           60   6.1      98.0         76   low risk            0   \n",
       "\n",
       "   SkinThickness   BMI  DiabetesPedigreeFunction  \n",
       "0             35  33.6                     0.627  \n",
       "1             29  26.6                     0.351  \n",
       "2              0  23.3                     0.672  \n",
       "3             23  28.1                     0.167  \n",
       "4             35  43.1                     2.288  "
      ]
     },
     "execution_count": 6,
     "metadata": {},
     "output_type": "execute_result"
    }
   ],
   "source": [
    "#By using the head function on the dataframe result we have got the first five rows in the dataframe.\n",
    "result.head()"
   ]
  },
  {
   "cell_type": "code",
   "execution_count": 7,
   "metadata": {},
   "outputs": [
    {
     "name": "stdout",
     "output_type": "stream",
     "text": [
      "                  BS            \n",
      "                mean median  min\n",
      "RiskLevel                       \n",
      "high risk  12.122610   11.0  6.1\n",
      "low risk    7.220271    7.5  6.0\n",
      "mid risk    7.801104    7.0  6.0\n"
     ]
    }
   ],
   "source": [
    "#PIVOTING THE DATA TO FIND MEAN,MEDIAN,& MIN OF BLOOD SUGAR AND RISK LEVEL\n",
    "#We have created a separate data frame called 'df' where we have used the columns 'blood sugar' and ' risk level' from the data frame result.\n",
    "#Then we have pivoted the data using pivot_table function and have found out the median, mean and min of the blood sugar for highrisk, low risk and mid risk levels. \n",
    "df = pd.DataFrame(result, columns= ['BS','RiskLevel'])\n",
    "\n",
    "BS_vs_RL = df.pivot_table(index=['RiskLevel'], values=['BS'], aggfunc={'median','mean','min'})\n",
    "\n",
    "print (BS_vs_RL)"
   ]
  },
  {
   "cell_type": "code",
   "execution_count": 8,
   "metadata": {},
   "outputs": [
    {
     "name": "stdout",
     "output_type": "stream",
     "text": [
      "                 BMI            \n",
      "                mean median  min\n",
      "RiskLevel                       \n",
      "high risk  32.204412  32.35  0.0\n",
      "low risk   32.222167  32.00  0.0\n",
      "mid risk   31.688060  32.20  0.0\n"
     ]
    }
   ],
   "source": [
    "#PIVOTING THE DATA TO FIND MEAN,MEDIAN,&MIN OF BMI AND RISK LEVEL\n",
    "#We have created a separate data frame called 'df' where we have used the columns 'BMI' and ' risk level' from the data frame result.\n",
    "#Then we have pivoted the data using pivot_table function and have found out the median, mean and min of the BMI for highrisk, low risk and mid risk levels.\n",
    "df = pd.DataFrame(result, columns= ['BMI','RiskLevel'])\n",
    "\n",
    "BMI_vs_RL = df.pivot_table(index=['RiskLevel'], values=['BMI'], aggfunc={'median','mean','min'})\n",
    "\n",
    "print (BMI_vs_RL)"
   ]
  },
  {
   "cell_type": "code",
   "execution_count": 9,
   "metadata": {},
   "outputs": [
    {
     "name": "stdout",
     "output_type": "stream",
     "text": [
      "          DiabetesPedigreeFunction              \n",
      "                              mean median    min\n",
      "RiskLevel                                       \n",
      "high risk                 0.487048  0.407  0.085\n",
      "low risk                  0.478670  0.370  0.078\n",
      "mid risk                  0.455206  0.344  0.101\n"
     ]
    }
   ],
   "source": [
    "##PIVOTING THE DATA TO FIND MEAN,MEDIAN,& MIN OF DiabetesPedigreeFunction AND RISK LEVEL\n",
    "#We have created a separate data frame called 'df' where we have used the columns 'DiabetesPedigreeFunction' and ' risk level' from the data frame result.\n",
    "#Then we have pivoted the data using pivot_table function and have found out the median, mean and min of the DiabetesPedigreeFunction for highrisk, low risk and mid risk levels.\n",
    "df = pd.DataFrame(result, columns= ['DiabetesPedigreeFunction','RiskLevel'])\n",
    "\n",
    "DPF_vs_RL = df.pivot_table(index=['RiskLevel'], values=['DiabetesPedigreeFunction'], aggfunc={'median','mean','min'})\n",
    "\n",
    "print (DPF_vs_RL)"
   ]
  },
  {
   "cell_type": "code",
   "execution_count": 10,
   "metadata": {},
   "outputs": [
    {
     "name": "stdout",
     "output_type": "stream",
     "text": [
      "           HeartRate             \n",
      "                mean median   min\n",
      "RiskLevel                        \n",
      "high risk  76.742647   77.0  60.0\n",
      "low risk   72.770936   70.0   7.0\n",
      "mid risk   74.170149   76.0  60.0\n"
     ]
    }
   ],
   "source": [
    "#PIVOTING THE DATA TO FIND MEAN,MEDIAN,& MIN OF HEARTRATE AND RISK LEVEL\n",
    "#We have created a separate data frame called 'df' where we have used the columns 'HEARTRATE' and ' risk level' from the data frame result.\n",
    "#Then we have pivoted the data using pivot_table function and have found out the median, mean and min of the Heartrate for highrisk, low risk and mid risk levels.\n",
    "\n",
    "df = pd.DataFrame(result, columns= ['HeartRate','RiskLevel'])\n",
    "\n",
    "Hrate_vs_RL = df.pivot_table(index=['RiskLevel'], values=['HeartRate'], aggfunc={'median','mean','min'})\n",
    "\n",
    "print (Hrate_vs_RL)"
   ]
  },
  {
   "cell_type": "code",
   "execution_count": 11,
   "metadata": {},
   "outputs": [
    {
     "name": "stdout",
     "output_type": "stream",
     "text": [
      "           SystolicBP             \n",
      "                 mean median   min\n",
      "RiskLevel                         \n",
      "high risk  124.194853  130.0  83.0\n",
      "low risk   105.866995  120.0  70.0\n",
      "mid risk   113.134328  120.0  70.0\n"
     ]
    }
   ],
   "source": [
    "#PIVOTING THE DATA TO FIND MEAN,MEDIAN,& MIN OF SYSTOLIC BP AND RISK LEVEL\n",
    "#We have created a separate data frame called 'df' where we have used the columns 'SYSTOLIC BP' and ' risk level' from the data frame result.\n",
    "#Then we have pivoted the data using pivot_table function and have found out the median, mean and min of the Heartrate for highrisk, low risk and mid risk levels.\n",
    "\n",
    "df = pd.DataFrame(result, columns= ['SystolicBP','RiskLevel'])\n",
    "\n",
    "SBP_vs_RL = df.pivot_table(index=['RiskLevel'], values=['SystolicBP'], aggfunc={'median','mean','min'})\n",
    "\n",
    "print (SBP_vs_RL)"
   ]
  },
  {
   "cell_type": "code",
   "execution_count": 12,
   "metadata": {},
   "outputs": [
    {
     "name": "stdout",
     "output_type": "stream",
     "text": [
      "          DiastolicBP             \n",
      "                 mean median   min\n",
      "RiskLevel                         \n",
      "high risk   85.073529   90.0  60.0\n",
      "low risk    72.534483   75.0  49.0\n",
      "mid risk    74.259701   75.0  50.0\n"
     ]
    }
   ],
   "source": [
    "##PIVOTING THE DATA TO FIND MEAN,MEDIAN,& MIN OF DIASTOLIC BP AND RISK LEVEL\n",
    "#We have created a separate data frame called 'df' where we have used the columns 'DIASTOLIC BP' and ' risk level' from the data frame result.\n",
    "#Then we have pivoted the data using pivot_table function and have found out the median, mean and min of the diastolic bp for highrisk,low risk and mid risk levels. \n",
    "df = pd.DataFrame(result, columns= ['DiastolicBP','RiskLevel'])\n",
    "\n",
    "DBP_vs_RL = df.pivot_table(index=['RiskLevel'], values=['DiastolicBP'], aggfunc={'median','mean','min'})\n",
    "\n",
    "print (DBP_vs_RL)"
   ]
  },
  {
   "cell_type": "code",
   "execution_count": 13,
   "metadata": {},
   "outputs": [],
   "source": [
    "##### DATA VISUALIZATION ######"
   ]
  },
  {
   "cell_type": "code",
   "execution_count": 14,
   "metadata": {},
   "outputs": [
    {
     "data": {
      "text/plain": [
       "array([[<matplotlib.axes._subplots.AxesSubplot object at 0x7f45d1991a20>,\n",
       "        <matplotlib.axes._subplots.AxesSubplot object at 0x7f45cf97bcc0>,\n",
       "        <matplotlib.axes._subplots.AxesSubplot object at 0x7f45cf930f28>,\n",
       "        <matplotlib.axes._subplots.AxesSubplot object at 0x7f45cf8ef1d0>],\n",
       "       [<matplotlib.axes._subplots.AxesSubplot object at 0x7f45cf8a6438>,\n",
       "        <matplotlib.axes._subplots.AxesSubplot object at 0x7f45cf8576a0>,\n",
       "        <matplotlib.axes._subplots.AxesSubplot object at 0x7f45cf80d908>,\n",
       "        <matplotlib.axes._subplots.AxesSubplot object at 0x7f45cf83fb38>],\n",
       "       [<matplotlib.axes._subplots.AxesSubplot object at 0x7f45cf83fba8>,\n",
       "        <matplotlib.axes._subplots.AxesSubplot object at 0x7f45cf7b6080>,\n",
       "        <matplotlib.axes._subplots.AxesSubplot object at 0x7f45cf7662e8>,\n",
       "        <matplotlib.axes._subplots.AxesSubplot object at 0x7f45cf719550>],\n",
       "       [<matplotlib.axes._subplots.AxesSubplot object at 0x7f45cf6cb7b8>,\n",
       "        <matplotlib.axes._subplots.AxesSubplot object at 0x7f45cf700a20>,\n",
       "        <matplotlib.axes._subplots.AxesSubplot object at 0x7f45cf6b3c88>,\n",
       "        <matplotlib.axes._subplots.AxesSubplot object at 0x7f45cf666ef0>]],\n",
       "      dtype=object)"
      ]
     },
     "execution_count": 14,
     "metadata": {},
     "output_type": "execute_result"
    },
    {
     "data": {
      "image/png": "[encoded data removed]",
      "text/plain": [
       "<Figure size 1080x1080 with 16 Axes>"
      ]
     },
     "metadata": {
      "needs_background": "light"
     },
     "output_type": "display_data"
    }
   ],
   "source": [
    "#Here we have used the histogram to visualize the data frame result using the hist fucntion on the data frame result.\n",
    "result.hist(figsize=(15,15))"
   ]
  },
  {
   "cell_type": "code",
   "execution_count": 15,
   "metadata": {},
   "outputs": [],
   "source": [
    "#Here we have imported standard libraries os, matplotlib.pyplot, pandas, requests, and seaborn.\n",
    "import os\n",
    "\n",
    "import matplotlib.pyplot as plt\n",
    "import pandas as pd\n",
    "import requests\n",
    "\n",
    "# Plotting\n",
    "import seaborn as sns"
   ]
  },
  {
   "cell_type": "code",
   "execution_count": 16,
   "metadata": {},
   "outputs": [],
   "source": [
    "#Here we have defined a function called plot_barchart and\n",
    "#We made a bar chart for variables DiabetesPedigreeFunction,Blood sugar, and heart rate, as a very basic data exploring.\n",
    "#From which we can take several conclusions from each one of them.\n",
    "def plot_barchart(feature, xlabel):\n",
    "    fig = plt.figure(figsize=(14, 10))\n",
    "    plt.title(f\"Score by {xlabel}\", fontsize=17)\n",
    "\n",
    "    # DiabetesPedigreeFunction\n",
    "    ax1 = plt.subplot(311)\n",
    "    ax1 = sns.countplot(\n",
    "        data=result,\n",
    "        x=feature,\n",
    "        hue=\"DiabetesPedigreeFunction\",\n",
    "        palette=\"husl\",\n",
    "        order=result[feature].value_counts(ascending=False).index,\n",
    "    )\n",
    "    plt.legend([])\n",
    "    ax1.set_ylabel(\"DiabetesPedigreeFunction\", fontsize=12)\n",
    "    ax1.set_xlabel(\"\", fontsize=12)\n",
    "    plt.setp(ax1.get_xticklabels(), visible=False)\n",
    "    \n",
    "\n",
    "    # BS\n",
    "    ax2 = plt.subplot(312, sharex=ax1)\n",
    "    ax2 = sns.countplot(\n",
    "        data=result,\n",
    "        x=feature,\n",
    "        hue=\"BS\",\n",
    "        palette=\"husl\",\n",
    "        order=result[feature].value_counts(ascending=False).index,\n",
    "    )\n",
    "    plt.legend([])\n",
    "    ax2.set_ylabel(\"BS\", fontsize=12)\n",
    "    ax2.set_xlabel(\"\", fontsize=12)\n",
    "    plt.setp(ax2.get_xticklabels(), visible=False)\n",
    "\n",
    "    # HeartRate\n",
    "    ax3 = plt.subplot(313, sharex=ax1)\n",
    "    ax3 = sns.countplot(\n",
    "        data=result,\n",
    "        x=feature,\n",
    "        hue=\"HeartRate\",\n",
    "        palette=\"husl\",\n",
    "        order=result[feature].value_counts(ascending=False).index,\n",
    "    )\n",
    "    plt.legend([])\n",
    "    ax3.set_ylabel(\"HeartRate\", fontsize=12)\n",
    "    ax3.set_xlabel(xlabel, fontsize=14)\n",
    "    plt.show()"
   ]
  },
  {
   "cell_type": "code",
   "execution_count": 17,
   "metadata": {},
   "outputs": [
    {
     "data": {
      "image/png": "[encoded data removed]",
      "text/plain": [
       "<Figure size 1008x720 with 3 Axes>"
      ]
     },
     "metadata": {
      "needs_background": "light"
     },
     "output_type": "display_data"
    }
   ],
   "source": [
    "feature = \"RiskLevel\"\n",
    "xlabel = \"RiskLevel\"\n",
    "plot_barchart(feature, xlabel)\n",
    "#After creating the barchart we can observe that the risk level is more for higher blood sugar levels\n",
    "#and also the risk level is high when there is higher heart rate and also for lower heart rate.\n",
    "#diabetespedigreefunction is not having a normal distribution and doesn't seem to have any association with the risklevel."
   ]
  },
  {
   "cell_type": "code",
   "execution_count": 25,
   "metadata": {},
   "outputs": [
    {
     "name": "stderr",
     "output_type": "stream",
     "text": [
      "/opt/tljh/user/lib/python3.6/site-packages/IPython/core/pylabtools.py:128: UserWarning: Creating legend with loc=\"best\" can be slow with large amounts of data.\n",
      "  fig.canvas.print_figure(bytes_io, **kw)\n"
     ]
    },
    {
     "data": {
      "image/png": "[encoded data removed]",
      "text/plain": [
       "<Figure size 1008x720 with 3 Axes>"
      ]
     },
     "metadata": {
      "needs_background": "light"
     },
     "output_type": "display_data"
    }
   ],
   "source": [
    "feature = \"Age\"\n",
    "xlabel = \"Age\"\n",
    "plot_barchart(feature, xlabel)\n",
    "#After creating the barchart we can observe that the if the age is not related to heartrate. \n",
    "#and also blood sugar levels is not related to age\n",
    "#diabetespedigreefunction is not having a normal distribution and doesn't seem to have any association with the age.\n",
    "#we can interpret that if a person is having a healthy lifestyle and dietary habits age doesn't seem to have any affect on blood sugar and heart rate."
   ]
  },
  {
   "cell_type": "code",
   "execution_count": 19,
   "metadata": {},
   "outputs": [
    {
     "data": {
      "text/plain": [
       "<seaborn.axisgrid.FacetGrid at 0x7f45bfeb9f98>"
      ]
     },
     "execution_count": 19,
     "metadata": {},
     "output_type": "execute_result"
    },
    {
     "data": {
      "image/png": "[encoded data removed]",
      "text/plain": [
       "<Figure size 360x360 with 1 Axes>"
      ]
     },
     "metadata": {
      "needs_background": "light"
     },
     "output_type": "display_data"
    }
   ],
   "source": [
    "#Here we have used a scatter plot to show the association between risk level and systolicbp using catplot fucntion from seaborn library.\n",
    "import seaborn as sns\n",
    "sns.catplot(x=\"RiskLevel\", y=\"SystolicBP\", data=result)\n",
    "#The more the systolicbp the higher is the maternity risk level. and if the systolicbp is maintained at 120 or below then there is low risk."
   ]
  },
  {
   "cell_type": "code",
   "execution_count": 20,
   "metadata": {},
   "outputs": [
    {
     "data": {
      "text/plain": [
       "<seaborn.axisgrid.FacetGrid at 0x7f45b9d92780>"
      ]
     },
     "execution_count": 20,
     "metadata": {},
     "output_type": "execute_result"
    },
    {
     "data": {
      "image/png": "[encoded data removed]",
      "text/plain": [
       "<Figure size 360x360 with 1 Axes>"
      ]
     },
     "metadata": {
      "needs_background": "light"
     },
     "output_type": "display_data"
    }
   ],
   "source": [
    "#Here we have used a scatter plot to show the association between risk level and bloodsugar using catplot fucntion from seaborn library.\n",
    "import seaborn as sns\n",
    "sns.catplot(x=\"RiskLevel\", y=\"BS\", data=result)\n",
    "#The scatter plot shows the the more the blood sugar levels the higher is the maternity risk level."
   ]
  },
  {
   "cell_type": "code",
   "execution_count": 27,
   "metadata": {},
   "outputs": [],
   "source": [
    "#Here we have defined functions for bloodsugar, heart rate, diabetespedigreefunction with in the class of level of risk where \n",
    "# we have defined if blood sugar level is less than or equal to zero the its invalid bloodsugar,\n",
    "#if its greater than 0 and less than 7.5 it is low risk,\n",
    "#if greater than 7.5 and less than or equal to 9 then there is mid risk and\n",
    "#if it is greater than 9 it is higher risk.\n",
    "\n",
    "# we have defined if heart rate is less than or equal to 65 the its invalid heartrate,\n",
    "#if its greater than 65 and less than or equal to 73 it is low risk,\n",
    "#if greater than 73 and less than or equal to 75 then there is mid risk and\n",
    "#if it is greater than 75 it is higher risk.\n",
    "\n",
    "# we have defined if diabetesPedigreeFunction is less than or equal to 0 the its invalid diabetesPedigreeFunction,\n",
    "#if its greater than 0 and less than or equal to 0.45 it is low risk,\n",
    "#if greater than 0.45 and less than or equal to 0.48 then there is mid risk and\n",
    "#if it is greater than 0.48 it is higher risk.\n",
    "\n",
    "# we have defined if systolicbp is less than or equal to 105 the its invalid systolicbp,\n",
    "#if its greater than 105 and less than or equal to 113 it is low risk,\n",
    "#if greater than 113 and less than or equal to 124 then there is mid risk and\n",
    "#if it is greater than 124 it is higher risk.\n",
    "\n",
    "class levelOfRisk:\n",
    "    def __init__(self,n):\n",
    "        self.riskNumber = n\n",
    "    def BS(self):\n",
    "        if self.riskNumber <=0 :\n",
    "            return \"invalid BS\"\n",
    "        elif self.riskNumber >=0  and self.riskNumber <=7.5 :\n",
    "            return \"low risk\"\n",
    "        elif self.riskNumber >=7.5 and self.riskNumber <=9:\n",
    "            return \"mid risk\"\n",
    "        elif self.riskNumber >=9:\n",
    "            return \"high risk\"\n",
    "    def heartRate(self):\n",
    "        if self.riskNumber <=65 :\n",
    "            return \"invalid HeartRate\"\n",
    "        elif self.riskNumber >=65  and self.riskNumber <=73 :\n",
    "            return \"low risk\"\n",
    "        elif self.riskNumber >=73 and self.riskNumber <=75:\n",
    "            return \"mid risk\"\n",
    "        elif self.riskNumber >=75:\n",
    "            return \"high risk\"\n",
    "    def diabetesPedigreeFunction(self):\n",
    "        if self.riskNumber <=0.00 :\n",
    "            return \"invalid DiabetesPedigreeFunction \"\n",
    "        elif self.riskNumber >=0.00  and self.riskNumber <=0.45 :\n",
    "            return \"low risk\"\n",
    "        elif self.riskNumber >=0.45 and self.riskNumber <=0.48:\n",
    "            return \"mid risk\"\n",
    "        elif self.riskNumber >=0.48:\n",
    "            return \"high risk\"\n",
    "    def SystolicBP(self):\n",
    "         if self.riskNumber <=105 :\n",
    "            return \"invalid SystolicBP\"\n",
    "         elif self.riskNumber >=105  and self.riskNumber <=113 :\n",
    "            return \"low risk\"\n",
    "         elif self.riskNumber >=113 and self.riskNumber <=124:\n",
    "            return \"mid risk\"\n",
    "         elif self.riskNumber >124:\n",
    "            return \"high risk\""
   ]
  },
  {
   "cell_type": "code",
   "execution_count": null,
   "metadata": {},
   "outputs": [],
   "source": [
    "#We have used a library called regukar expression re by importing it.\n",
    "#This cell is used to create functions to choose from. and once the numbers are chosen the functions that are given in the previous cell are called and\n",
    "#the out put is given according to the functions created in the previous cell. for this we have used if-else and while and also we have used exceptions like \n",
    "#try-catch exception. Where The try statement allows to define a block of code to be tested for errors while it is being executed\n",
    "import re\n",
    "while(True):\n",
    "    name = input(\"\"\"Risk assessment(Choose Option): \n",
    "                    1.BS\n",
    "                    2.Heart Rate\n",
    "                    3.Diabetes Pedigree\n",
    "                    4.Systolic BP\n",
    "                     \"\"\" )\n",
    "    if(not(re.findall(\"[1-4]\",name))):\n",
    "        print(\"Please choose from 1 to 4 numbers\")\n",
    "    else:\n",
    "        break\n",
    "try:\n",
    "    obj = levelOfRisk(float(input(\"Level in numbers : \")))\n",
    "\n",
    "    if name == \"1\":\n",
    "        print(obj.BS())\n",
    "    elif name == \"2\":\n",
    "        print(obj.heartRate())\n",
    "    elif name == \"3\":\n",
    "        print(obj.diabetesPedigreeFunction())\n",
    "    elif name == \"4\":\n",
    "        print(obj.SystolicBP())\n",
    "except:\n",
    "    print(\"Oops! Error occured. Try Again\")"
   ]
  },
  {
   "cell_type": "code",
   "execution_count": null,
   "metadata": {},
   "outputs": [],
   "source": [
    "a=input('''\n",
    "Are you ready to submit your work?\n",
    "1. Click the Save icon (or do Ctrl-S / Cmd-S)\n",
    "2. Type \"yes\" or \"no\" below\n",
    "3. Press Enter\n",
    "\n",
    "''')\n",
    "\n",
    "if a=='yes':\n",
    "    !git add final.ipynb\n",
    "    !git commit -a -m \"Submitting the final.ipynb\"\n",
    "    !git push\n",
    "else:\n",
    "    print('''\n",
    "    \n",
    "OK. We can wait.\n",
    "''')"
   ]
  },
  {
   "cell_type": "code",
   "execution_count": null,
   "metadata": {},
   "outputs": [],
   "source": []
  }
 ],
 "metadata": {
  "kernelspec": {
   "display_name": "Python 3",
   "language": "python",
   "name": "python3"
  },
  "language_info": {
   "codemirror_mode": {
    "name": "ipython",
    "version": 3
   },
   "file_extension": ".py",
   "mimetype": "text/x-python",
   "name": "python",
   "nbconvert_exporter": "python",
   "pygments_lexer": "ipython3",
   "version": "3.6.7"
  }
 },
 "nbformat": 4,
 "nbformat_minor": 4
}
